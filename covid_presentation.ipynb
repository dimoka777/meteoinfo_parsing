{
 "nbformat": 4,
 "nbformat_minor": 0,
 "metadata": {
  "colab": {
   "name": "with_null.ipynb",
   "provenance": [],
   "collapsed_sections": [
    "MGmvoHEqUaYr",
    "7ARxM9O_UgLE",
    "8yqi-85qVRJ4",
    "d1pNnVl7XzVm",
    "LTtyZIgIVgFb"
   ]
  },
  "kernelspec": {
   "name": "python3",
   "display_name": "Python 3"
  },
  "language_info": {
   "name": "python"
  }
 },
 "cells": [
  {
   "cell_type": "markdown",
   "source": [
    "<a href=\"https://colab.research.google.com/github/dimoka777/osc/blob/master/covid_presentation.ipynb#scrollTo=eKYOd9krKb1C\" target=\"_parent\"><img src=\"https://colab.research.google.com/assets/colab-badge.svg\" alt=\"Open In Colab\"/></a>"
   ],
   "metadata": {
    "collapsed": false
   }
  },
  {
   "cell_type": "markdown",
   "metadata": {
    "id": "lJvdtcIGULou"
   },
   "source": [
    "#Создание презентации с графиками"
   ]
  },
  {
   "cell_type": "markdown",
   "metadata": {
    "id": "06kmtDUN0ZrE"
   },
   "source": [
    "##### **Внимание !!!** Если Вы хотите добавить шестую страну для сбора информации, то её нужно добавлять до запуска скрипта. \n",
    "---\n",
    "\n"
   ]
  },
  {
   "cell_type": "code",
   "metadata": {
    "id": "OSvl6OZl1z33",
    "cellView": "form"
   },
   "source": [
    "#@title Загрузка шаблона презентации\n",
    "from google.colab import files\n",
    "prs_filename = files.upload()\n",
    "prs_filename = next(iter(prs_filename))"
   ],
   "execution_count": null,
   "outputs": []
  },
  {
   "cell_type": "code",
   "metadata": {
    "id": "g90N8F5ShvQo",
    "cellView": "form"
   },
   "source": [
    "#@title Добавить страну\n",
    "sixth_country = \"\" #@param [\"\", \"\\u0410\\u0432\\u0441\\u0442\\u0440\\u0430\\u043B\\u0438\\u044F\", \"\\u0410\\u0432\\u0441\\u0442\\u0440\\u0438\\u044F\", \"\\u0410\\u0437\\u0435\\u0440\\u0431\\u0430\\u0439\\u0434\\u0436\\u0430\\u043D\", \"\\u0410\\u043B\\u0431\\u0430\\u043D\\u0438\\u044F\", \"\\u0410\\u043B\\u0436\\u0438\\u0440\", \"\\u0410\\u043D\\u0433\\u043E\\u043B\\u0430\", \"\\u0410\\u043D\\u0434\\u043E\\u0440\\u0440\\u0430\", \"\\u0410\\u0440\\u0433\\u0435\\u043D\\u0442\\u0438\\u043D\\u0430\", \"\\u0410\\u0440\\u043C\\u0435\\u043D\\u0438\\u044F\", \"\\u0410\\u0444\\u0433\\u0430\\u043D\\u0438\\u0441\\u0442\\u0430\\u043D\", \"\\u0411\\u0430\\u043D\\u0433\\u043B\\u0430\\u0434\\u0435\\u0448\", \"\\u0411\\u0430\\u0440\\u0431\\u0430\\u0434\\u043E\\u0441\", \"\\u0411\\u0430\\u0445\\u0440\\u0435\\u0439\\u043D\", \"\\u0411\\u0435\\u043B\\u0430\\u0440\\u0443\\u0441\\u044C\", \"\\u0411\\u0435\\u043B\\u044C\\u0433\\u0438\\u044F\", \"\\u0411\\u043E\\u043B\\u0433\\u0430\\u0440\\u0438\\u044F\", \"\\u0411\\u043E\\u043B\\u0438\\u0432\\u0438\\u044F\", \"\\u0411\\u043E\\u0442\\u0441\\u0432\\u0430\\u043D\\u0430\", \"\\u0411\\u0440\\u0430\\u0437\\u0438\\u043B\\u0438\\u044F\", \"\\u0411\\u0440\\u0443\\u043D\\u0435\\u0439\", \"\\u0411\\u0443\\u0440\\u043A\\u0438\\u043D\\u0430-\\u0424\\u0430\\u0441\\u043E\", \"\\u0411\\u0443\\u0440\\u0443\\u043D\\u0434\\u0438\", \"\\u0411\\u0443\\u0442\\u0430\\u043D\", \"\\u0412\\u0435\\u043B\\u0438\\u043A\\u043E\\u0431\\u0440\\u0438\\u0442\\u0430\\u043D\\u0438\\u044F\", \"\\u0412\\u0435\\u043D\\u0433\\u0440\\u0438\\u044F\", \"\\u0412\\u0435\\u043D\\u0435\\u0441\\u0443\\u044D\\u043B\\u0430\", \"\\u0412\\u044C\\u0435\\u0442\\u043D\\u0430\\u043C\", \"\\u0413\\u0430\\u0439\\u0430\\u043D\\u0430\", \"\\u0413\\u0430\\u043C\\u0431\\u0438\\u044F\", \"\\u0413\\u0430\\u043D\\u0430\", \"\\u0413\\u0432\\u0430\\u0434\\u0435\\u043B\\u0443\\u043F\\u0430\", \"\\u0413\\u0432\\u0430\\u0442\\u0435\\u043C\\u0430\\u043B\\u0430\", \"\\u0413\\u0432\\u0438\\u043D\\u0435\\u044F\", \"\\u0413\\u0435\\u0440\\u043C\\u0430\\u043D\\u0438\\u044F\", \"\\u0413\\u0438\\u0431\\u0440\\u0430\\u043B\\u0442\\u0430\\u0440\", \"\\u0413\\u043E\\u043D\\u0434\\u0443\\u0440\\u0430\\u0441\", \"\\u0413\\u043E\\u043D\\u043A\\u043E\\u043D\\u0433\", \"\\u0413\\u0440\\u0435\\u043D\\u043B\\u0430\\u043D\\u0434\\u0438\\u044F\", \"\\u0413\\u0440\\u0435\\u0446\\u0438\\u044F\", \"\\u0413\\u0440\\u0443\\u0437\\u0438\\u044F\", \"\\u0414\\u0420 \\u041A\\u043E\\u043D\\u0433\\u043E\", \"\\u0414\\u0430\\u043D\\u0438\\u044F\", \"\\u0414\\u043E\\u043C\\u0438\\u043D\\u0438\\u043A\\u0430\", \"\\u0415\\u0433\\u0438\\u043F\\u0435\\u0442\", \"\\u0417\\u0430\\u043C\\u0431\\u0438\\u044F\", \"\\u0417\\u0438\\u043C\\u0431\\u0430\\u0431\\u0432\\u0435\", \"\\u0418\\u0437\\u0440\\u0430\\u0438\\u043B\\u044C\", \"\\u0418\\u043D\\u0434\\u0438\\u044F\", \"\\u0418\\u043D\\u0434\\u043E\\u043D\\u0435\\u0437\\u0438\\u044F\", \"\\u0418\\u043E\\u0440\\u0434\\u0430\\u043D\\u0438\\u044F\", \"\\u0418\\u0440\\u0430\\u043A\", \"\\u0418\\u0440\\u0430\\u043D\", \"\\u0418\\u0440\\u043B\\u0430\\u043D\\u0434\\u0438\\u044F\", \"\\u0418\\u0441\\u043B\\u0430\\u043D\\u0434\\u0438\\u044F\", \"\\u0418\\u0441\\u043F\\u0430\\u043D\\u0438\\u044F\", \"\\u0418\\u0442\\u0430\\u043B\\u0438\\u044F\", \"\\u0419\\u0435\\u043C\\u0435\\u043D\", \"\\u041A\\u0430\\u0437\\u0430\\u0445\\u0441\\u0442\\u0430\\u043D\", \"\\u041A\\u0430\\u043C\\u0431\\u043E\\u0434\\u0436\\u0430\", \"\\u041A\\u0430\\u043C\\u0435\\u0440\\u0443\\u043D\", \"\\u041A\\u0430\\u043D\\u0430\\u0434\\u0430\", \"\\u041A\\u0430\\u0442\\u0430\\u0440\", \"\\u041A\\u0435\\u043D\\u0438\\u044F\", \"\\u041A\\u0438\\u043F\\u0440\", \"\\u041A\\u0438\\u0440\\u0433\\u0438\\u0437\\u0438\\u044F\", \"\\u041A\\u0438\\u0442\\u0430\\u0439\", \"\\u041A\\u043E\\u043B\\u0443\\u043C\\u0431\\u0438\\u044F\", \"\\u041A\\u043E\\u0441\\u0442\\u0430-\\u0420\\u0438\\u043A\\u0430\", \"\\u041A\\u0443\\u0431\\u0430\", \"\\u041A\\u0443\\u0432\\u0435\\u0439\\u0442\", \"\\u041B\\u0430\\u043E\\u0441\", \"\\u041B\\u0430\\u0442\\u0432\\u0438\\u044F\", \"\\u041B\\u0438\\u0431\\u0435\\u0440\\u0438\\u044F\", \"\\u041B\\u0438\\u0432\\u0430\\u043D\", \"\\u041B\\u0438\\u0432\\u0438\\u044F\", \"\\u041B\\u0438\\u0442\\u0432\\u0430\", \"\\u041B\\u0438\\u0445\\u0442\\u0435\\u043D\\u0448\\u0442\\u0435\\u0439\\u043D\", \"\\u041B\\u044E\\u043A\\u0441\\u0435\\u043C\\u0431\\u0443\\u0440\\u0433\", \"\\u041C\\u0430\\u0432\\u0440\\u0438\\u043A\\u0438\\u0439\", \"\\u041C\\u0430\\u0432\\u0440\\u0438\\u0442\\u0430\\u043D\\u0438\\u044F\", \"\\u041C\\u0430\\u0434\\u0430\\u0433\\u0430\\u0441\\u043A\\u0430\\u0440\", \"\\u041C\\u0430\\u043B\\u0430\\u0439\\u0437\\u0438\\u044F\", \"\\u041C\\u0430\\u043B\\u0438\", \"\\u041C\\u0430\\u043B\\u044C\\u0434\\u0438\\u0432\\u044B\", \"\\u041C\\u0430\\u043B\\u044C\\u0442\\u0430\", \"\\u041C\\u0430\\u0440\\u043E\\u043A\\u043A\\u043E\", \"\\u041C\\u0435\\u043A\\u0441\\u0438\\u043A\\u0430\", \"\\u041C\\u043E\\u0437\\u0430\\u043C\\u0431\\u0438\\u043A\", \"\\u041C\\u043E\\u043B\\u0434\\u0430\\u0432\\u0438\\u044F\", \"\\u041C\\u043E\\u043D\\u0430\\u043A\\u043E\", \"\\u041C\\u043E\\u043D\\u0433\\u043E\\u043B\\u0438\\u044F\", \"\\u041C\\u044C\\u044F\\u043D\\u043C\\u0430\", \"\\u041D\\u0430\\u043C\\u0438\\u0431\\u0438\\u044F\", \"\\u041D\\u0435\\u043F\\u0430\\u043B\", \"\\u041D\\u0438\\u0433\\u0435\\u0440\", \"\\u041D\\u0438\\u0433\\u0435\\u0440\\u0438\\u044F\", \"\\u041D\\u0438\\u0434\\u0435\\u0440\\u043B\\u0430\\u043D\\u0434\\u044B\", \"\\u041D\\u0438\\u043A\\u0430\\u0440\\u0430\\u0433\\u0443\\u0430\", \"\\u041D\\u043E\\u0432\\u0430\\u044F \\u0417\\u0435\\u043B\\u0430\\u043D\\u0434\\u0438\\u044F\", \"\\u041D\\u043E\\u0440\\u0432\\u0435\\u0433\\u0438\\u044F\", \"\\u041E\\u0410\\u042D\", \"\\u041E\\u043C\\u0430\\u043D\", \"\\u041F\\u0430\\u043A\\u0438\\u0441\\u0442\\u0430\\u043D\", \"\\u041F\\u0430\\u043D\\u0430\\u043C\\u0430\", \"\\u041F\\u0430\\u0440\\u0430\\u0433\\u0432\\u0430\\u0439\", \"\\u041F\\u0435\\u0440\\u0443\", \"\\u041F\\u043E\\u043B\\u044C\\u0448\\u0430\", \"\\u041F\\u043E\\u0440\\u0442\\u0443\\u0433\\u0430\\u043B\\u0438\\u044F\", \"\\u041F\\u0443\\u044D\\u0440\\u0442\\u043E-\\u0420\\u0438\\u043A\\u043E\", \"\\u0420\\u0435\\u0441\\u043F\\u0443\\u0431\\u043B\\u0438\\u043A\\u0430 \\u041A\\u043E\\u043D\\u0433\\u043E\", \"\\u0420\\u043E\\u0441\\u0441\\u0438\\u044F\", \"\\u0420\\u0443\\u0430\\u043D\\u0434\\u0430\", \"\\u0420\\u0443\\u043C\\u044B\\u043D\\u0438\\u044F\", \"\\u0421\\u0428\\u0410\", \"\\u0421\\u0430\\u043B\\u044C\\u0432\\u0430\\u0434\\u043E\\u0440\", \"\\u0421\\u0430\\u043D-\\u041C\\u0430\\u0440\\u0438\\u043D\\u043E\", \"\\u0421\\u0430\\u0443\\u0434\\u043E\\u0432\\u0441\\u043A\\u0430\\u044F \\u0410\\u0440\\u0430\\u0432\\u0438\\u044F\", \"\\u0421\\u0435\\u043D\\u0435\\u0433\\u0430\\u043B\", \"\\u0421\\u0435\\u0440\\u0431\\u0438\\u044F\", \"\\u0421\\u0438\\u043D\\u0433\\u0430\\u043F\\u0443\\u0440\", \"\\u0421\\u0438\\u0440\\u0438\\u044F\", \"\\u0421\\u043B\\u043E\\u0432\\u0430\\u043A\\u0438\\u044F\", \"\\u0421\\u043B\\u043E\\u0432\\u0435\\u043D\\u0438\\u044F\", \"\\u0421\\u0443\\u0434\\u0430\\u043D\", \"\\u0421\\u044C\\u0435\\u0440\\u0440\\u0430-\\u041B\\u0435\\u043E\\u043D\\u0435\", \"\\u0422\\u0430\\u0434\\u0436\\u0438\\u043A\\u0438\\u0441\\u0442\\u0430\\u043D\", \"\\u0422\\u0430\\u0438\\u043B\\u0430\\u043D\\u0434\", \"\\u0422\\u0430\\u0439\\u0432\\u0430\\u043D\\u044C\", \"\\u0422\\u0430\\u043D\\u0437\\u0430\\u043D\\u0438\\u044F\", \"\\u0422\\u0438\\u0431\\u0435\\u0442\", \"\\u0422\\u0443\\u043D\\u0438\\u0441\", \"\\u0422\\u0443\\u0440\\u043A\\u043C\\u0435\\u043D\\u0438\\u044F\", \"\\u0422\\u0443\\u0440\\u0446\\u0438\\u044F\", \"\\u0423\\u0433\\u0430\\u043D\\u0434\\u0430\", \"\\u0423\\u0437\\u0431\\u0435\\u043A\\u0438\\u0441\\u0442\\u0430\\u043D\", \"\\u0423\\u043A\\u0440\\u0430\\u0438\\u043D\\u0430\", \"\\u0423\\u0440\\u0443\\u0433\\u0432\\u0430\\u0439\", \"\\u0424\\u0438\\u043B\\u0438\\u043F\\u043F\\u0438\\u043D\\u044B\", \"\\u0424\\u0438\\u043D\\u043B\\u044F\\u043D\\u0434\\u0438\\u044F\", \"\\u0424\\u0440\\u0430\\u043D\\u0446\\u0438\\u044F\", \"\\u0425\\u043E\\u0440\\u0432\\u0430\\u0442\\u0438\\u044F\", \"\\u0427\\u0430\\u0434\", \"\\u0427\\u0435\\u0440\\u043D\\u043E\\u0433\\u043E\\u0440\\u0438\\u044F\", \"\\u0427\\u0435\\u0445\\u0438\\u044F\", \"\\u0427\\u0438\\u043B\\u0438\", \"\\u0428\\u0432\\u0435\\u0439\\u0446\\u0430\\u0440\\u0438\\u044F\", \"\\u0428\\u0432\\u0435\\u0446\\u0438\\u044F\", \"\\u0428\\u0440\\u0438-\\u041B\\u0430\\u043D\\u043A\\u0430\", \"\\u042D\\u043A\\u0432\\u0430\\u0434\\u043E\\u0440\", \"\\u042D\\u0441\\u0432\\u0430\\u0442\\u0438\\u043D\\u0438\", \"\\u042D\\u0441\\u0442\\u043E\\u043D\\u0438\\u044F\", \"\\u042D\\u0444\\u0438\\u043E\\u043F\\u0438\\u044F\", \"\\u042E\\u0436\\u043D\\u0430\\u044F \\u041A\\u043E\\u0440\\u0435\\u044F\", \"\\u042E\\u0410\\u0420\", \"\\u042E\\u0436\\u043D\\u044B\\u0439 \\u0421\\u0443\\u0434\\u0430\\u043D\", \"\\u042F\\u043C\\u0430\\u0439\\u043A\\u0430\", \"\\u042F\\u043F\\u043E\\u043D\\u0438\\u044F\"]\n"
   ],
   "execution_count": 2,
   "outputs": []
  },
  {
   "cell_type": "markdown",
   "metadata": {
    "id": "MGmvoHEqUaYr"
   },
   "source": [
    "###Installs"
   ]
  },
  {
   "cell_type": "code",
   "metadata": {
    "id": "bNPWRTryUcw3"
   },
   "source": [
    "!pip install python-pptx &> /dev/null\n",
    "\n",
    "!pip install plotly>=4.0.0 &> /dev/null\n",
    "!wget https://github.com/plotly/orca/releases/download/v1.2.1/orca-1.2.1-x86_64.AppImage -O /usr/local/bin/orca &> /dev/null\n",
    "!chmod +x /usr/local/bin/orca &> /dev/null\n",
    "!apt-get install xvfb libgtk2.0-0 libgconf-2-4 &> /dev/null"
   ],
   "execution_count": 3,
   "outputs": []
  },
  {
   "cell_type": "markdown",
   "metadata": {
    "id": "7ARxM9O_UgLE"
   },
   "source": [
    "###Imports"
   ]
  },
  {
   "cell_type": "code",
   "metadata": {
    "id": "l1RSyR9UUiLj"
   },
   "source": [
    "import os\n",
    "from datetime import datetime\n",
    "\n",
    "import pandas as pd\n",
    "import numpy as np\n",
    "\n",
    "import pptx\n",
    "from pptx import Presentation\n",
    "from pptx.enum.text import PP_ALIGN\n",
    "from pptx.util import Pt\n",
    "\n",
    "import plotly.express as px\n",
    "import plotly.graph_objects as go\n",
    "import re"
   ],
   "execution_count": 27,
   "outputs": []
  },
  {
   "cell_type": "markdown",
   "metadata": {
    "id": "8yqi-85qVRJ4"
   },
   "source": [
    "###Constants"
   ]
  },
  {
   "cell_type": "code",
   "metadata": {
    "id": "9i5rNwJTVaKC"
   },
   "source": [
    "WEEKLY_REPORT_DAY = 1\n",
    "countries_map = {\"United States\": \"США\", \"Diamond Princess\": \"Судно \\\"Diamond Princess\\\"\",  \"MS Zaandam\":  \"Судно \\\"MS Zaandam\\\"\",\n",
    "                \"Taiwan*\":\"Тайвань\", \"Timor-Leste\":\"Восточный Тимор\", \"US\":\"США\", \"West Bank and Gaza\":\"Западный берег реки Иордан\", \"Syria\": \"Сирия\", \"Slovakia\": \"Словакия\", \"Sao Tome and Principe\": \"Сан-Томе и Принсипи\", \"Russia\": \"Россия\",\n",
    "                 \"Korea, South\": \"Южная Корея\", \"Iran\": \"Иран\", \"Eswatini\": \"Эсватини\", \"Cote d'Ivoire\": \"Кот-д’Ивуар\", \"Congo (Kinshasa)\": \"ДР Конго\", \"Congo (Brazzaville)\":\"Республика Конго\",\n",
    "                 \"Cabo Verde\":\"Кабо-Верде\", \"Burma\": \"Мьянма\", \"Afghanistan\":  \"Афганистан\", \"Albania\":  \"Албания\", \"Algeria\":  \"Алжир\", \"American Samoa\":  \"Американское Самоа\", \"Andorra\":  \"Андорра\", \"Angola\":  \"Ангола\", \"Anguilla\": \"Ангилья\",\n",
    "                 \"Antarctica\":  \"Антарктика\", \"Antigua and Barbuda\":  \"Антигуа и Барбуда\", \"Argentina\":  \"Аргентина\", \"Armenia\":  \"Армения\", \"Aruba\":  \"Аруба\", \"Australia\":  \"Австралия\", \"Austria\":  \"Австрия\", \"Azerbaijan\":  \"Азербайджан\", \n",
    "                 \"Bahamas\":  \"Багамские острова\", \"Bahrain\":  \"Бахрейн\", \"Bangladesh\":  \"Бангладеш\", \"Barbados\":  \"Барбадос\", \"Belarus\":  \"Беларусь\", \"Belgium\":  \"Бельгия\", \"Belize\":  \"Белиз\", \"Benin\":  \"Бенин\", \n",
    "                 \"Bermuda\": \"Бермудские Острова\", \"Bhutan\":  \"Бутан\", \"Bolivia\":  \"Боливия\", \"Bosnia and Herzegovina\":  \"Босния и Герцеговина\", \"Botswana\":  \"Ботсвана\", \"Brazil\":  \"Бразилия\", \"Brunei\":  \"Бруней\", \"Bulgaria\":  \"Болгария\",\n",
    "                 \"Burkina Faso\":  \"Буркина-Фасо\", \"Burundi\":  \"Бурунди\", \"Cambodia\":  \"Камбоджа\", \"Cameroon\":  \"Камерун\", \"Canada\":  \"Канада\", \"Cape Verde\":  \"Кабо-Верде\", \"Cayman Islands\":  \"Острова Кайман\",\n",
    "                 \"Central African Republic\":  \"ЦАР\", \"Chad\":  \"Чад\", \"Chile\":  \"Чили\", \"China\":  \"Китай\", \"Colombia\":  \"Колумбия\", \"Comoros\":  \"Коморские острова\",\n",
    "                 \"Cook Islands\":  \"Острова Кука\", \"Costa Rica\":  \"Коста-Рика\",\n",
    "                 \"Ivory Coast (Cote d'Ivoire)\":  \"Кот-д’Ивуар\", \"Croatia\":  \"Хорватия\", \"Cuba\":  \"Куба\", \"Cyprus\":  \"Кипр\", \"Czechia\":  \"Чехия\", \"Denmark\":  \"Дания\", \"Djibouti\":  \"Джибути\", \"Dominica\":  \"Доминика\",\n",
    "                 \"Dominican Republic\":  \"Доминиканская Республика\", \"East Timor (Timor-Leste)\":  \"Восточный Тимор\", \"Ecuador\":  \"Эквадор\", \"Egypt\":  \"Египет\", \"El Salvador\":  \"Сальвадор\", \"Equatorial Guinea\":  \"Экваториальная Гвинея\",\n",
    "                 \"Eritrea\":  \"Эритрея\", \"Estonia\":  \"Эстония\", \"Ethiopia\":  \"Эфиопия\", \"Falkland Islands\":  \"Фолклендские острова\", \"Faroe Islands\":  \"Фарерские острова\", \"Fiji\":  \"Фиджи\", \"Finland\":  \"Финляндия\", \"France\":  \"Франция\",\n",
    "                 \"French Guiana\":  \"Гвиана\", \"French Polynesia\":  \"Французская Полинезия\", \"Gabon\":  \"Габон\", \"Gambia\":  \"Гамбия\", \"Georgia\":  \"Грузия\", \"Germany\":  \"Германия\", \"Ghana\":  \"Гана\", \"Gibraltar\":  \"Гибралтар\",\n",
    "                 \"Greece\":  \"Греция\", \"Greenland\":  \"Гренландия\", \"Grenada\":  \"Гренада\", \"Guadeloupe\":  \"Гваделупа\", \"Guam\":  \"Гуам\", \"Guatemala\":  \"Гватемала\", \"Guinea\":  \"Гвинея\", \"Guinea-Bissau\":  \"Гвинея-Бисау\",\n",
    "                 \"Guyana\":  \"Гайана\", \"Haiti\":  \"Гаити\", \"Honduras\":  \"Гондурас\", \"Hong Kong\":  \"Гонконг\", \"Hungary\":  \"Венгрия\", \"Iceland\":  \"Исландия\", \"India\":  \"Индия\", \"Indonesia\":  \"Индонезия\",\n",
    "                 \"Iran (Islamic Republic of)\":  \"Иран (Персия)\", \"Iraq\":  \"Ирак\", \"Ireland\":  \"Ирландия\", \"Israel\":  \"Израиль\", \"Italy\":  \"Италия\", \"Jamaica\":  \"Ямайка\", \"Japan\":  \"Япония\", \"Jordan\":  \"Иордания\",\n",
    "                 \"Kazakhstan\":  \"Казахстан\", \"Kenya\":  \"Кения\", \"Kiribati\":  \"Кирибати\", \"Korea, Democratic People's Rep. (North Korea)\":  \"Северная Корея (КНДР)\", \"Korea, Republic of (South Korea)\":  \"Ю́жная Коре́я (Республика Корея)\",\n",
    "                 \"Kosovo\":  \"Косово и Метохия\", \"Kuwait\":  \"Кувейт\", \"Kyrgyzstan\":  \"Киргизия\", \"Laos\":  \"Лаос\", \"Latvia\":  \"Латвия\", \"Lebanon\":  \"Ливан\", \"Lesotho\":  \"Лесото\", \"Liberia\":  \"Либерия\",\n",
    "                 \"Libya\":  \"Ливия\", \"Liechtenstein\":  \"Лихтенштейн\", \"Lithuania\":  \"Литва\", \"Luxembourg\":  \"Люксембург\", \"Macau\":  \"Макао (Аомынь)\", \"North Macedonia\":  \"Северная Македония\", \"Madagascar\":  \"Мадагаскар\", \"Malawi\":  \"Малави\",\n",
    "                 \"Malaysia\":  \"Малайзия\", \"Maldives\":  \"Мальдивы\", \"Mali\":  \"Мали\", \"Malta\":  \"Мальта\", \"Martinique\":  \"Мартиника\", \"Mauritania\":  \"Мавритания\", \"Mauritius\":  \"Маврикий\", \"Mayotte\":  \"Майотта\", \"Mexico\":  \"Мексика\",\n",
    "                 \"Микронезия, Federated States of\":  \"Федеративные Штаты Микронезии\", \"Moldova\":  \"Молдавия\", \"Monaco\":  \"Монако\", \"Mongolia\":  \"Монголия\", \"Montenegro\":  \"Черногория\", \"Montserrat\":  \"Монтсеррат\", \n",
    "                 \"Morocco\":  \"Марокко\", \"Mozambique\":  \"Мозамбик\", \"Myanmar, Burma\":  \"Мьянма, (Би́рма)\", \"Namibia\":  \"Намибия\", \"Nauru\":  \"Науру\", \"Nepal\":  \"Непал\", \"Netherlands\":  \"Нидерланды\", \"New Caledonia\":  \"Новая Каледония\", \n",
    "                 \"New Zealand\":  \"Новая Зеландия\", \"Nicaragua\":  \"Никарагуа\", \"Niger\":  \"Нигер\", \"Nigeria\":  \"Нигерия\", \"Northern Mariana Islands\":  \"Северные Марианские\", \"\":  \"острова\", \"Norway\":  \"Норвегия\", \"Oman\":  \"Оман\", \n",
    "                 \"Pakistan\":  \"Пакистан\", \"Palau\":  \"Палау\", \"State of Palestine\":  \"Государство Палестина\", \"Panama\":  \"Панама\", \"Papua New Guinea\":  \"Папуа — Новая Гвинея\", \"Paraguay\":  \"Парагвай\", \"Peru\":  \"Перу\", \"Philippines\":  \"Филиппины\", \n",
    "                 \"Poland\":  \"Польша\", \"Portugal\":  \"Португалия\", \"Puerto Rico\":  \"Пуэрто-Рико\", \"Qatar\":  \"Катар\", \"Réunion\":  \"Реюньон\", \"Romania\":  \"Румыния\", \"Russian Federation\":  \"Россия, Росси́йская Федера́ция\", \"Rwanda\":  \"Руанда\",\n",
    "                 \"Saint Kitts and Nevis\":  \"Сент-Китс и Невис\", \"Saint Lucia\":  \"Сент-Люсия\", \"Saint Vincent and the Grenadines\":  \"Сент-Винсент и Гренадины\", \"Samoa\":  \"Самоа\", \"San Marino\":  \"Сан-Марино\", \n",
    "                 \"Sao Tome and Príncipe\":  \"Сан-Томе и Принсипи\", \"Saudi Arabia\":  \"Саудовская Аравия\", \"Senegal\":  \"Сенегал\", \"Serbia\":  \"Сербия\", \"Seychelles\":  \"Сейшельские острова\", \"Sierra Leone\":  \"Сьерра-Леоне\", \n",
    "                 \"Singapore\":  \"Сингапур\", \"Slovakia (Slovak Republic)\":  \"Словакия\", \"Slovenia\":  \"Словения\", \"Solomon Islands\":  \"Соломоновы острова\", \"Somalia\":  \"Сомали\", \"South Africa\":  \"ЮАР\", \"South Sudan\":  \"Южный Судан\", \n",
    "                 \"Spain\":  \"Испания\", \"Sri Lanka\":  \"Шри-Ланка\", \"Sudan\":  \"Судан\", \"Suriname\":  \"Суринам\", \"Swaziland (Eswatini)\":  \"Сва́зиле́нд (Эсватини)\", \"Sweden\":  \"Швеция\", \"Switzerland\":  \"Швейцария\", \n",
    "                 \"Syria, Syrian Arab Republic\":  \"Сирия\", \"Taiwan\":  \"Китайская Республика (Тайвань)\", \"Tajikistan\":  \"Таджикистан\", \"Tanzania\":  \"Танзания\", \"Thailand\":  \"Таиланд\", \"Tibet\":  \"Тибет\", \n",
    "                 \"Timor-Leste (East Timor)\":  \"Восточный Тимор\", \"Togo\":  \"Того\", \"Tokelau\":  \"Токелау\", \"Tonga\":  \"Тонга\", \"Trinidad and Tobago\":  \"Тринидад и Тобаго\", \"Tunisia\":  \"Тунис\", \"Turkey\":  \"Турция\", \"Turkmenistan\":  \"Туркмения\", \n",
    "                 \"Tuvalu\":  \"Тувалу\", \"Uganda\":  \"Уганда\", \"Ukraine\":  \"Украина\", \"United Arab Emirates\":  \"ОАЭ\", \"United Kingdom\":  \"Великобритания\", \n",
    "                 \"Uruguay\":  \"Уругвай\", \"Uzbekistan\":  \"Узбекистан\", \"Vanuatu\":  \"Вануату\", \"Holy See\":  \"Папский Престол\", \"Venezuela\":  \"Венесуэла\", \"Vietnam\":  \"Вьетнам\", \n",
    "                 \"Virgin Islands (British)\":  \"Виргинские Острова (Великобритания)\", \"Virgin Islands (U.S.)\":  \"Виргинские Острова (США)\", \"Wallis and Futuna Islands\":  \"Уоллис и Футуна\", \"Western Sahara\":  \"Западная Сахара\",\n",
    "                 \"Yemen\":  \"Йемен\", \"Zambia\":  \"Замбия\", \"Zimbabwe\":  \"Зимбабве\"}\n",
    "monthes = {\n",
    "    \"01\": \"чнваря\", \"02\": \"февраля\", \"03\": \"марта\", \"04\": \"апреля\", \"05\": \"майя\", \"06\": \"июня\",\n",
    "    \"07\": \"июля\", \"08\": \"августа\", \"09\": \"сентября\", \"10\": \"октября\", \"11\": \"ноября\", \"12\": \"декабря\",\n",
    "    }"
   ],
   "execution_count": 5,
   "outputs": []
  },
  {
   "cell_type": "markdown",
   "metadata": {
    "id": "rrV7fOo3XdLr"
   },
   "source": [
    "###Date"
   ]
  },
  {
   "cell_type": "code",
   "metadata": {
    "id": "siTVhUYSXe_s"
   },
   "source": [
    "today = datetime.today().strftime(\"%d-%m-%Y\")\n",
    "if not os.path.exists(today):\n",
    "    os.mkdir(today)\n",
    "os.environ['FOLDER_NAME'] = today"
   ],
   "execution_count": 30,
   "outputs": []
  },
  {
   "cell_type": "markdown",
   "metadata": {
    "id": "d1pNnVl7XzVm"
   },
   "source": [
    "###Utils"
   ]
  },
  {
   "cell_type": "code",
   "metadata": {
    "id": "f80QMP9EX0w9"
   },
   "source": [
    "def rename_input_filename(filename: str):\n",
    "    today = datetime.today().strftime(\"%d-%m-%Y\")\n",
    "    splitted_filename = filename.split('.')\n",
    "    splitted_filename[0] = '_'.join([part for part in splitted_filename[0].split('_') if not re.match(r'\\d{2}-\\d{2}-\\d{4}', part)])\n",
    "    splitted_filename[0] = f'{splitted_filename[0]}_{today}'\n",
    "    output_filename = '.'.join(splitted_filename)\n",
    "    return f'{today}/{output_filename}'"
   ],
   "execution_count": 7,
   "outputs": []
  },
  {
   "cell_type": "markdown",
   "metadata": {
    "id": "LTtyZIgIVgFb"
   },
   "source": [
    "###Hopkins university"
   ]
  },
  {
   "cell_type": "code",
   "metadata": {
    "colab": {
     "base_uri": "https://localhost:8080/"
    },
    "id": "eXHwRRFNVihW",
    "outputId": "ac3f968a-5b95-4abc-9cbe-a8571caee3f0"
   },
   "source": [
    "!add-apt-repository ppa:git-core/ppa -y &> /dev/null\n",
    "!apt update; apt install git &> /dev/null\n",
    "!git clone --depth 1 --filter=blob:none --spars https://github.com/CSSEGISandData/COVID-19 &> /dev/null"
   ],
   "execution_count": 8,
   "outputs": [
    {
     "output_type": "stream",
     "text": [
      "\u001B[33m\r0% [Working]\u001B[0m\r            \rHit:1 http://ppa.launchpad.net/c2d4u.team/c2d4u4.0+/ubuntu bionic InRelease\n",
      "\u001B[33m\r0% [Waiting for headers] [Connecting to security.ubuntu.com (91.189.91.38)] [Co\u001B[0m\r                                                                               \rHit:2 http://archive.ubuntu.com/ubuntu bionic InRelease\n",
      "\u001B[33m\r0% [Waiting for headers] [Connecting to security.ubuntu.com (91.189.91.38)] [Wa\u001B[0m\u001B[33m\r0% [1 InRelease gpgv 15.9 kB] [Waiting for headers] [Connecting to security.ubu\u001B[0m\r                                                                               \rHit:3 https://cloud.r-project.org/bin/linux/ubuntu bionic-cran40/ InRelease\n",
      "\u001B[33m\r0% [1 InRelease gpgv 15.9 kB] [Waiting for headers] [Connecting to security.ubu\u001B[0m\r                                                                               \rHit:4 http://archive.ubuntu.com/ubuntu bionic-updates InRelease\n",
      "\u001B[33m\r0% [1 InRelease gpgv 15.9 kB] [Connecting to security.ubuntu.com (91.189.91.38)\u001B[0m\r                                                                               \rHit:5 http://ppa.launchpad.net/cran/libgit2/ubuntu bionic InRelease\n",
      "\u001B[33m\r0% [1 InRelease gpgv 15.9 kB] [Waiting for headers] [Connecting to security.ubu\u001B[0m\r                                                                               \rHit:6 http://archive.ubuntu.com/ubuntu bionic-backports InRelease\n",
      "\u001B[33m\r0% [1 InRelease gpgv 15.9 kB] [Connecting to security.ubuntu.com (91.189.91.38)\u001B[0m\r                                                                               \rHit:7 http://ppa.launchpad.net/deadsnakes/ppa/ubuntu bionic InRelease\n",
      "\u001B[33m\r0% [1 InRelease gpgv 15.9 kB] [Connecting to security.ubuntu.com (91.189.91.38)\u001B[0m\r                                                                               \rHit:8 http://ppa.launchpad.net/git-core/ppa/ubuntu bionic InRelease\n",
      "\u001B[33m\r0% [1 InRelease gpgv 15.9 kB] [Connecting to security.ubuntu.com (91.189.91.38)\u001B[0m\r                                                                               \rHit:9 http://ppa.launchpad.net/graphics-drivers/ppa/ubuntu bionic InRelease\n",
      "\u001B[33m\r                                                                               \r0% [1 InRelease gpgv 15.9 kB] [Waiting for headers] [Waiting for headers]\u001B[0m\r                                                                         \rHit:10 http://security.ubuntu.com/ubuntu bionic-security InRelease\n",
      "Ign:11 https://developer.download.nvidia.com/compute/cuda/repos/ubuntu1804/x86_64  InRelease\n",
      "Ign:12 https://developer.download.nvidia.com/compute/machine-learning/repos/ubuntu1804/x86_64  InRelease\n",
      "Hit:13 https://developer.download.nvidia.com/compute/cuda/repos/ubuntu1804/x86_64  Release\n",
      "Hit:14 https://developer.download.nvidia.com/compute/machine-learning/repos/ubuntu1804/x86_64  Release\n",
      "Reading package lists... Done\n",
      "Building dependency tree       \n",
      "Reading state information... Done\n",
      "54 packages can be upgraded. Run 'apt list --upgradable' to see them.\n"
     ],
     "name": "stdout"
    }
   ]
  },
  {
   "cell_type": "code",
   "metadata": {
    "colab": {
     "base_uri": "https://localhost:8080/"
    },
    "id": "m1Hjk10kWJA5",
    "outputId": "cdd9e99c-3b8e-4833-ca13-6ec7470c7012"
   },
   "source": [
    "cd COVID-19/"
   ],
   "execution_count": 9,
   "outputs": [
    {
     "output_type": "stream",
     "text": [
      "/content/COVID-19\n"
     ],
     "name": "stdout"
    }
   ]
  },
  {
   "cell_type": "code",
   "metadata": {
    "id": "M7OfIqUJWLec"
   },
   "source": [
    "!git sparse-checkout set csse_covid_19_data/csse_covid_19_time_series &> /dev/null"
   ],
   "execution_count": 10,
   "outputs": []
  },
  {
   "cell_type": "code",
   "metadata": {
    "colab": {
     "base_uri": "https://localhost:8080/"
    },
    "id": "rlKEC1MOWNoz",
    "outputId": "be871cd3-3656-41c3-bb5a-df596c0e998f"
   },
   "source": [
    "cd .."
   ],
   "execution_count": 11,
   "outputs": [
    {
     "output_type": "stream",
     "text": [
      "/content\n"
     ],
     "name": "stdout"
    }
   ]
  },
  {
   "cell_type": "code",
   "metadata": {
    "id": "wedUGi5RWQUa"
   },
   "source": [
    "confirmed_ts = pd.read_csv('/content/COVID-19/csse_covid_19_data/csse_covid_19_time_series/time_series_covid19_confirmed_global.csv')\n",
    "deaths_ts = pd.read_csv('/content/COVID-19/csse_covid_19_data/csse_covid_19_time_series/time_series_covid19_deaths_global.csv')\n",
    "recovered_ts = pd.read_csv('/content/COVID-19/csse_covid_19_data/csse_covid_19_time_series/time_series_covid19_recovered_global.csv')"
   ],
   "execution_count": 12,
   "outputs": []
  },
  {
   "cell_type": "code",
   "metadata": {
    "id": "fjX-mx0aWSvR"
   },
   "source": [
    "confirmed_ts = confirmed_ts.groupby('Country/Region').sum().iloc[:,2:]\n",
    "deaths_ts = deaths_ts.groupby('Country/Region').sum().iloc[:,2:]\n",
    "recovered_ts = recovered_ts.groupby('Country/Region').sum().iloc[:,2:]"
   ],
   "execution_count": 13,
   "outputs": []
  },
  {
   "cell_type": "code",
   "metadata": {
    "id": "vP0UuLR1WVEZ"
   },
   "source": [
    "li = []\n",
    "for i in range(len(confirmed_ts)):\n",
    "    tmp = pd.DataFrame()\n",
    "    tmp['Дата'] = confirmed_ts.iloc[i,:].index\n",
    "    tmp['Страна'] = confirmed_ts.iloc[i,:].name\n",
    "    tmp['Заражений'] = confirmed_ts.iloc[i,:].values\n",
    "    tmp['Заражений за день'] = tmp['Заражений'].diff(1)\n",
    "    tmp['Заражений(МА)'] = tmp['Заражений за день'].rolling(7).sum()\n",
    "    tmp['Смертей'] = deaths_ts.iloc[i,:].values\n",
    "    tmp['Смертей за день'] = tmp['Смертей'].diff(1)\n",
    "    tmp['Выздоровлений'] = recovered_ts.iloc[i,:].values\n",
    "    tmp['Выздоровлений за день'] = tmp['Выздоровлений'].diff(1)\n",
    "    li.append(tmp)"
   ],
   "execution_count": 14,
   "outputs": []
  },
  {
   "cell_type": "code",
   "metadata": {
    "id": "3cH9K-moWXhp"
   },
   "source": [
    "df = pd.concat(li, axis=0, ignore_index=True)"
   ],
   "execution_count": 15,
   "outputs": []
  },
  {
   "cell_type": "code",
   "metadata": {
    "id": "M_ghtrioWZd8"
   },
   "source": [
    "df = df[['Страна', 'Дата', 'Заражений', 'Заражений за день', 'Заражений(МА)',\n",
    "       'Смертей', 'Смертей за день', 'Выздоровлений', 'Выздоровлений за день']]"
   ],
   "execution_count": 16,
   "outputs": []
  },
  {
   "cell_type": "code",
   "metadata": {
    "id": "qO_fOmLoWbdJ"
   },
   "source": [
    "li = []\n",
    "def translate_country(eng):\n",
    "    try:\n",
    "        return countries_map[eng]\n",
    "    except KeyError:\n",
    "        li.append(eng)\n",
    "        return eng\n",
    "\n",
    "\n",
    "df['Страна'] = df['Страна'].apply(translate_country)"
   ],
   "execution_count": 17,
   "outputs": []
  },
  {
   "cell_type": "code",
   "metadata": {
    "colab": {
     "base_uri": "https://localhost:8080/"
    },
    "id": "D0yFJv3kWdtl",
    "outputId": "228969e0-5beb-4a89-b160-d04cda428719"
   },
   "source": [
    "np.unique(np.array(li))"
   ],
   "execution_count": 18,
   "outputs": [
    {
     "output_type": "execute_result",
     "data": {
      "text/plain": [
       "array(['Marshall Islands', 'Micronesia', 'Summer Olympics 2020'],\n",
       "      dtype='<U20')"
      ]
     },
     "metadata": {},
     "execution_count": 18
    }
   ]
  },
  {
   "cell_type": "code",
   "metadata": {
    "id": "uoxdjQ26WgN9"
   },
   "source": [
    "df['Дата'] = pd.to_datetime(df['Дата'], format='%m/%d/%y')"
   ],
   "execution_count": 19,
   "outputs": []
  },
  {
   "cell_type": "code",
   "metadata": {
    "id": "-61dIsvzWi0D"
   },
   "source": [
    "df_diff = df"
   ],
   "execution_count": 20,
   "outputs": []
  },
  {
   "cell_type": "markdown",
   "metadata": {
    "id": "x9kdTqI_WpZA"
   },
   "source": [
    "###Graphics"
   ]
  },
  {
   "cell_type": "code",
   "metadata": {
    "id": "kn8q3nNJWr3o"
   },
   "source": [
    "!wget https://raw.githubusercontent.com/owid/covid-19-data/master/public/data/vaccinations/vaccinations.csv &> /dev/null"
   ],
   "execution_count": 21,
   "outputs": []
  },
  {
   "cell_type": "code",
   "metadata": {
    "id": "-uIE1v3LWwiz"
   },
   "source": [
    "vac = pd.read_csv('/content/vaccinations.csv')\n",
    "vac['location'] = vac['location'].apply(translate_country)"
   ],
   "execution_count": 22,
   "outputs": []
  },
  {
   "cell_type": "code",
   "metadata": {
    "id": "g3ztBPVdYJdb"
   },
   "source": [
    "last_date = df_diff['Дата'].sort_values().iloc[-1]\n",
    "top5_countries = df_diff[df_diff['Дата'] == last_date].sort_values('Заражений(МА)', ascending=False).iloc[:5]['Страна'].values"
   ],
   "execution_count": 23,
   "outputs": []
  },
  {
   "cell_type": "code",
   "metadata": {
    "id": "fajIq2jHU_f1",
    "colab": {
     "base_uri": "https://localhost:8080/"
    },
    "outputId": "5f1cff25-77c2-41d3-de67-6958122b5c7c"
   },
   "source": [
    "if sixth_country:\n",
    "  top5_countries = np.append(top5_countries, sixth_country)\n",
    "  print(top5_countries)"
   ],
   "execution_count": 24,
   "outputs": [
    {
     "output_type": "stream",
     "text": [
      "['США' 'Иран' 'Великобритания' 'Индия' 'Бразилия' 'Германия']\n"
     ],
     "name": "stdout"
    }
   ]
  },
  {
   "cell_type": "code",
   "metadata": {
    "id": "0YoxrhlVWyfT"
   },
   "source": [
    "if not os.path.exists(f'{today}/graphics'):\n",
    "    os.mkdir(f'{today}/graphics')"
   ],
   "execution_count": 25,
   "outputs": []
  },
  {
   "cell_type": "code",
   "metadata": {
    "id": "l4DWuKxDX_hP"
   },
   "source": [
    "pic_width = 7.34\n",
    "pic_height = 2.98\n",
    "\n",
    "#(slide, x, y)\n",
    "if sixth_country:\n",
    "  pic_positions = [(1, 1.33, 2.65), (1, 1.33, 5.84), (1, 1.33, 8.86),\n",
    "                  (1, 8.89, 2.65), (1, 8.89, 5.84), (1, 8.89, 8.86),\n",
    "                  (1, 16.79, 2.65), (1, 16.79, 5.84), (1, 16.79, 8.86),\n",
    "                  (2, 1.33, 2.65), (2, 1.33, 5.84), (2, 1.33, 8.86),\n",
    "                  (2, 8.89, 2.65), (2, 8.89, 5.84), (2, 8.89, 8.86),\n",
    "                  (2, 16.79, 2.65), (2, 16.79, 5.84), (2, 16.79, 8.86)]\n",
    "  county_name_positions = [(2, 2.14), (9.4, 2.14), (17.2, 2.14), (2.05, 2.14), (9.66, 2.14), (17.5, 2.14)]\n",
    "  confirmed_text_positions = [(2, 2.6), (9.4, 2.6), (17.2, 2.6), (2.05, 2.6), (9.66, 2.6), (17.5, 2.6)]\n",
    "  deaths_text_positions = [(2, 5.84), (9.4, 5.84), (17.2, 5.84), (2.05, 5.95), (9.66, 5.95), (17.5, 5.95)]\n",
    "  vaccine_text_positions = [(2, 9.04), (9.4, 9.04), (17.2, 9.04), (2.05, 9.04), (9.66, 9.04), (17.5, 9.04)]\n",
    "else:\n",
    "  pic_positions = [(1, 1.33, 2.65), (1, 1.33, 5.84), (1, 1.33, 8.86),\n",
    "                  (1, 8.89, 2.65), (1, 8.89, 5.84), (1, 8.89, 8.86),\n",
    "                  (1, 16.79, 2.65), (1, 16.79, 5.84), (1, 16.79, 8.86),\n",
    "                  (2, 5.02, 2.59), (2, 5.02, 5.88), (2, 5.02, 8.86),\n",
    "                  (2, 13.74, 2.59), (2, 13.74, 5.88), (2, 13.74, 8.86)]\n",
    "  county_name_positions = [(2, 2.14), (9.4, 2.14), (17.3, 2.14), (5.6, 2.14), (14.3, 2.14)]\n",
    "  confirmed_text_positions = [(2, 2.6), (9.4, 2.6), (17.3, 2.6), (5.6, 2.6), (14.3, 2.6)]\n",
    "  deaths_text_positions = [(2, 5.84), (9.4, 5.84), (17.3, 5.84), (5.6, 5.95), (14.3, 5.95)]\n",
    "  vaccine_text_positions = [(2, 9.04), (9.4, 9.04), (17.3, 9.04), (5.6, 9.04), (14.3, 9.04)]\n",
    "\n",
    "\n",
    "\n",
    "prs = Presentation(prs_filename)\n",
    "\n",
    "\n",
    "for i, country in enumerate(top5_countries):\n",
    "    # First graphic (confirmed)\n",
    "    country_df = df_diff[df_diff['Страна'] == country]\n",
    "    country_df.loc[country_df['Заражений за день'] < 0, 'Заражений за день'] = 0\n",
    "    fig = px.line(country_df.sort_values('Дата'),\n",
    "                  x=\"Дата\",\n",
    "                  y=\"Заражений за день\",\n",
    "                  color_discrete_sequence=[\"red\"],\n",
    "                  template='plotly_white',)\n",
    "    fig.update_layout(\n",
    "        margin=dict(t=0,l=0,b=0,r=15)\n",
    "    )\n",
    "    fig.update_yaxes(title_text=\"\")\n",
    "    fig.update_xaxes(title_text=\"\")\n",
    "    pic_path = f'{today}/graphics/Заражений {country}.jpeg'\n",
    "    fig.write_image(pic_path)\n",
    "    \n",
    "    slide, x, y = pic_positions.pop(0)\n",
    "    prs.slides[slide].shapes.add_picture(pic_path, pptx.util.Cm(x), pptx.util.Cm(y),\n",
    "                               width=pptx.util.Cm(pic_width), height=pptx.util.Cm(pic_height))\n",
    "\n",
    "    # country name\n",
    "    x, y = county_name_positions.pop(0)\n",
    "    txBox = prs.slides[slide].shapes.add_textbox(pptx.util.Cm(x), pptx.util.Cm(y),\n",
    "                               width=pptx.util.Cm(1), height=pptx.util.Cm(1))\n",
    "    tf = txBox.text_frame\n",
    "    p = tf.paragraphs[0]\n",
    "    p.text = country\n",
    "    p.font.size = pptx.util.Pt(10)\n",
    "    p.font.bold = True\n",
    "\n",
    "    # Confirmed cases text\n",
    "    x, y = confirmed_text_positions.pop(0)\n",
    "    txBox = prs.slides[slide].shapes.add_textbox(pptx.util.Cm(x), pptx.util.Cm(y),\n",
    "                               width=pptx.util.Cm(1), height=pptx.util.Cm(1))\n",
    "    tf = txBox.text_frame\n",
    "    p = tf.paragraphs[0]\n",
    "    try:\n",
    "      confirmed = country_df[country_df['Дата'] == country_df['Дата'].max()]['Заражений'].iloc[0]\n",
    "      p.text = f'Заболеваний: {int(confirmed)}'\n",
    "    except:\n",
    "      p.text = 'Заболеваний: Не известно'\n",
    "    p.font.size = pptx.util.Pt(5)\n",
    "    p.font.bold = True\n",
    "    p.font.name = 'Trebuchet MS'\n",
    "\n",
    "\n",
    "    # Second graphic (deaths)\n",
    "    fig = px.line(country_df.sort_values('Дата'), x=\"Дата\", y=\"Смертей за день\", color_discrete_sequence=[\"blue\"], template='plotly_white')\n",
    "    fig.update_layout(\n",
    "        margin=dict(t=0,l=0,b=0,r=15)\n",
    "    )\n",
    "    fig.update_yaxes(title_text=\"\")\n",
    "    fig.update_xaxes(title_text=\"\")\n",
    "    pic_path = f'{today}/graphics/Смертей {country}.jpeg'\n",
    "    fig.write_image(pic_path)\n",
    "\n",
    "    slide, x, y = pic_positions.pop(0)\n",
    "    prs.slides[slide].shapes.add_picture(pic_path, pptx.util.Cm(x), pptx.util.Cm(y),\n",
    "                               width=pptx.util.Cm(pic_width), height=pptx.util.Cm(pic_height))\n",
    "\n",
    "\n",
    "    # Deaths text\n",
    "    x, y = deaths_text_positions.pop(0)\n",
    "    txBox = prs.slides[slide].shapes.add_textbox(pptx.util.Cm(x), pptx.util.Cm(y),\n",
    "                               width=pptx.util.Cm(1), height=pptx.util.Cm(1))\n",
    "    tf = txBox.text_frame\n",
    "    p = tf.paragraphs[0]\n",
    "    try:\n",
    "      deaths = country_df[country_df['Дата'] == country_df['Дата'].max()]['Смертей'].iloc[0]\n",
    "      p.text = f'Летальных исходов: {int(deaths)} ({round(deaths/confirmed * 100, 1)}%)'\n",
    "    except:\n",
    "      p.text = 'Летальных исходов: не известно'\n",
    "    p.font.size = pptx.util.Pt(5)\n",
    "    p.font.bold = True\n",
    "    p.font.name = 'Trebuchet MS'\n",
    "\n",
    "\n",
    "    #vaccine_graphics\n",
    "    print(country)\n",
    "    vac_country = vac[vac['location'] == country]\n",
    "    fig = go.Figure()\n",
    "    fig.add_trace(go.Scatter(x=vac_country['date'], y=vac_country['people_fully_vaccinated'],\n",
    "                        mode='lines',\n",
    "                        name='Итого привито 2 комп., чел.', connectgaps=True))\n",
    "    fig.add_trace(go.Scatter(x=vac_country['date'], y=vac_country['people_vaccinated'],\n",
    "                        mode='lines',\n",
    "                        name='Итого привито 1 комп., чел.', connectgaps=True))\n",
    "    fig.add_trace(go.Scatter(x=vac_country['date'], y=vac_country['total_vaccinations'],\n",
    "                        mode='lines', name='Итого прививок, шт.', connectgaps=True))\n",
    "    fig.update_layout(\n",
    "        margin=dict(t=0,l=0,b=0,r=15)\n",
    "    )\n",
    "    fig.update_layout(template='plotly_white')\n",
    "    fig.update_layout(legend=dict(\n",
    "        orientation=\"h\",\n",
    "        yanchor=\"bottom\",\n",
    "        y=1.02,\n",
    "        xanchor=\"right\",\n",
    "        x=0.5\n",
    "    ))\n",
    "    pic_path = f'{today}/graphics/Вакцина {country}.jpeg'\n",
    "    fig.write_image(pic_path)\n",
    "    slide, x, y = pic_positions.pop(0)\n",
    "    prs.slides[slide].shapes.add_picture(pic_path, pptx.util.Cm(x), pptx.util.Cm(y),\n",
    "                               width=pptx.util.Cm(pic_width), height=pptx.util.Cm(pic_height))\n",
    "    \n",
    "\n",
    "    # vaccine info\n",
    "    last_date = vac_country[vac_country['date'] == vac_country['date'].max()]\n",
    "    try:\n",
    "      people_fully_vaccinated = last_date['people_fully_vaccinated'].iloc[0]\n",
    "      people_fully_vaccinated_per_hundred = last_date['people_fully_vaccinated_per_hundred'].iloc[0]\n",
    "      people_vaccinated = last_date['people_vaccinated'].iloc[0]\n",
    "      people_vaccinated_per_hundred = last_date['people_vaccinated_per_hundred'].iloc[0]\n",
    "      daily_vaccinations = last_date['daily_vaccinations'].iloc[0]\n",
    "      daily_vaccinations_per_hundred = last_date['daily_vaccinations_per_million'].iloc[0]/100000\n",
    "    except:\n",
    "      people_fully_vaccinated = 'Не известно'\n",
    "      people_fully_vaccinated_per_hundred = 'Не известно'\n",
    "      people_vaccinated = 'Не известно'\n",
    "      people_vaccinated_per_hundred = 'Не известно'\n",
    "      daily_vaccinations = 'Не известно'\n",
    "      daily_vaccinations_per_hundred = 'Не известно'\n",
    "\n",
    "\n",
    "    x, y = vaccine_text_positions.pop(0)\n",
    "    txBox = prs.slides[slide].shapes.add_textbox(pptx.util.Cm(x), pptx.util.Cm(y),\n",
    "                               width=pptx.util.Cm(1), height=pptx.util.Cm(1))\n",
    "    tf = txBox.text_frame\n",
    "    p = tf.paragraphs[0]\n",
    "    try:\n",
    "      p.text = f'Привито {people_fully_vaccinated_per_hundred}% ({int(people_fully_vaccinated)} чел.)'\n",
    "    except:\n",
    "      p.text = 'Статистика не известна'\n",
    "    p.font.size = pptx.util.Pt(5)\n",
    "    p.font.name = 'Trebuchet MS'\n",
    "\n",
    "    p = tf.add_paragraph()\n",
    "    try:\n",
    "      p.text = f'Привито 1 компонентом {people_vaccinated_per_hundred}% ({int(people_vaccinated)} чел.)'\n",
    "    except:\n",
    "      p.text = 'Статистика не известна'\n",
    "    p.font.size = pptx.util.Pt(5)\n",
    "    p.font.name = 'Trebuchet MS'\n",
    "\n",
    "    p = tf.add_paragraph()\n",
    "    try:\n",
    "      p.text = f'Привито за день {int(daily_vaccinations)} чел. ({daily_vaccinations_per_hundred}% от населения)'\n",
    "    except:\n",
    "      p.text = 'Статистика не известна'\n",
    "    p.font.size = pptx.util.Pt(5)\n",
    "    p.font.name = 'Trebuchet MS'\n",
    "\n",
    "\n",
    "    # table in 1 slide\n",
    "    try:\n",
    "      table_row = [country,\n",
    "                 str(int(country_df[country_df['Дата'] == country_df['Дата'].max()]['Заражений(МА)'].iloc[0])),\n",
    "                 str(int(country_df[country_df['Дата'] == country_df['Дата'].max()]['Заражений за день'].iloc[0])),\n",
    "                 str(people_vaccinated_per_hundred),\n",
    "                 str(people_fully_vaccinated_per_hundred),\n",
    "                 str(int(country_df[country_df['Дата'] == country_df['Дата'].max()]['Смертей за день'].iloc[0]))]\n",
    "    except:\n",
    "      table_row = [country,\n",
    "                 'Не известно',\n",
    "                 'Не известно',\n",
    "                 'Не известно',\n",
    "                 'Не известно',\n",
    "                 'Не известно']\n",
    "    for j, elem in enumerate(table_row):\n",
    "        prs.slides[0].shapes[7].table.cell(i+1, j).text = elem\n",
    "        p = prs.slides[0].shapes[7].table.cell(i+1, j).text_frame.paragraphs[0]\n",
    "        p.font.size = pptx.util.Pt(11)\n",
    "        p.alignment = PP_ALIGN.CENTER\n",
    "\n",
    "date_today_title = datetime.today().strftime(\"%d-%m-%Y\").split('-')\u000B\n",
    "date_today = f\"{date_today_title[0]} {monthes[date_today_title[1]]}*\"\u000Bprint(date_today)\n",
    "shape = prs.slides[0].shapes[0]\u000B\n",
    "text_frame = shape.text_frame\u000B\n",
    "print(text_frame)\u000B\n",
    "text_frame.clear()\u000B\n",
    "p = text_frame.paragraphs[0]\u000B\n",
    "run = p.add_run()\u000B\n",
    "run.text = \"Статистика заражения COVID-19 в мире, России на \" + date_today\u000B\n",
    "font = run.font\u000B\n",
    "font.name = 'SB Sans Display'\u000B\n",
    "font.size = Pt(20)\u000B\n",
    "font.bold = None\u000B\n",
    "font.italic = None\u000B\u000B\u000B\n",
    "\n",
    "prs.save(rename_input_filename('out.pptx'))"
   ],
   "execution_count": null,
   "outputs": []
  }
 ]
}